{
 "cells": [
  {
   "cell_type": "code",
   "execution_count": null,
   "id": "e5dced72-87cb-436d-8a07-023e8161f38d",
   "metadata": {},
   "outputs": [],
   "source": [
    "from langchain_groq import ChatGroq\n",
    "import json\n",
    "\n",
    "llm = ChatGroq(\n",
    "    model=\"mixtral-8x7b-32768\",\n",
    "    temperature=0,\n",
    "    groq_api_key = \"ggsk_ya3Gzzrv8RCIDHioAgH9WGdyb3FY5t3i8Rl6GvyzwthU8ccez42P\"\n",
    ")\n",
    "\n",
    "python_code = \"\"\"\n",
    "def add{a, b):\n",
    "    return a + b\n",
    "\"\"\"\n",
    "\n",
    "# Structured prompt for JSON output\n",
    "code_review_prompt = f\"\"\"\n",
    "You are a professional Python code reviewer. \n",
    "Analyze the following function and provide a structured review.\n",
    "\n",
    "Return the response in strict JSON format with three keys:\n",
    "- \"errors\": A list of syntax or logical errors.\n",
    "- \"suggestions\": A list of improvements.\n",
    "- \"optimized_code\": The corrected and optimized version of the function.\n",
    "\n",
    "Ensure your response is *valid JSON only*.\n",
    "\n",
    "```python\n",
    "{python_code}\n",
    "\"\"\"\n",
    "response = llm.invoke(code_review_prompt)\n",
    "response = response.content\n",
    "res = json.loads(response)\n",
    "print(\"Errors:\")\n",
    "for error in res.get(\"errors\", []):\n",
    "    print(error)\n",
    "    \n",
    "print(\"\\nSuggestions:\")\n",
    "for suggestion in res.get(\"suggestions\", []):\n",
    "    print(suggestion)\n",
    "\n",
    "print(\"\\nHere is the optimized code you can try\")\n",
    "print(res.get(\"optimized_code\", \"No optimized code available.\"))"
   ]
  },
  {
   "cell_type": "code",
   "execution_count": null,
   "id": "e4b9dec5-4ab3-4f49-bc09-d3b8219b47ac",
   "metadata": {},
   "outputs": [],
   "source": []
  }
 ],
 "metadata": {
  "kernelspec": {
   "display_name": "Python 3 (ipykernel)",
   "language": "python",
   "name": "python3"
  },
  "language_info": {
   "codemirror_mode": {
    "name": "ipython",
    "version": 3
   },
   "file_extension": ".py",
   "mimetype": "text/x-python",
   "name": "python",
   "nbconvert_exporter": "python",
   "pygments_lexer": "ipython3",
   "version": "3.9.13"
  }
 },
 "nbformat": 4,
 "nbformat_minor": 5
}
